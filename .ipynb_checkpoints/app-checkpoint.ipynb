{
 "cells": [
  {
   "cell_type": "code",
   "execution_count": null,
   "id": "5fe4a8f7",
   "metadata": {},
   "outputs": [
    {
     "name": "stdout",
     "output_type": "stream",
     "text": [
      " * Serving Flask app '__main__'\n",
      " * Debug mode: off\n"
     ]
    },
    {
     "name": "stderr",
     "output_type": "stream",
     "text": [
      "\u001b[31m\u001b[1mWARNING: This is a development server. Do not use it in a production deployment. Use a production WSGI server instead.\u001b[0m\n",
      " * Running on all addresses (0.0.0.0)\n",
      " * Running on http://127.0.0.1:2023\n",
      " * Running on http://192.168.219.112:2023\n",
      "\u001b[33mPress CTRL+C to quit\u001b[0m\n",
      "192.168.219.112 - - [28/Apr/2023 20:27:42] \"GET / HTTP/1.1\" 200 -\n",
      "192.168.219.112 - - [28/Apr/2023 20:27:43] \"\u001b[32mPOST / HTTP/1.1\u001b[0m\" 302 -\n",
      "192.168.219.112 - - [28/Apr/2023 20:27:43] \"GET /coffeebot HTTP/1.1\" 200 -\n",
      "192.168.219.112 - - [28/Apr/2023 20:27:46] \"\u001b[33mGET /CoffeeChatbot.py HTTP/1.1\u001b[0m\" 404 -\n"
     ]
    }
   ],
   "source": [
    "from flask import Flask, render_template, redirect, request, url_for\n",
    "\n",
    "#Flask 객체 인스턴스 생성\n",
    "app = Flask(__name__)\n",
    "\n",
    "@app.route('/', methods=['GET','POST']) # 접속하는 url\n",
    "def main():\n",
    "    if request.method =='POST':\n",
    "        return redirect(url_for('coffeebot'))\n",
    "    return render_template('main.html')\n",
    "\n",
    "@app.route('/coffeebot', methods=['GET','POST']) # 접속하는 url\n",
    "def coffeebot():\n",
    "    return render_template('coffeebot.html')\n",
    "    #return render_template('coffeebot.html')\n",
    "\n",
    "#def index():\n",
    "#    return render_template('index.html')\n",
    "\n",
    "if __name__==\"__main__\":\n",
    "    app.run(host='0.0.0.0', port='2023')\n",
    "# host 등을 직접 지정하고 싶다면\n",
    "# app.run(host=\"127.0.0.1\", port=\"5000\", debug=True)\n",
    "# Jupyter Notebook에서는 debug시 에러가 뜸"
   ]
  },
  {
   "cell_type": "code",
   "execution_count": null,
   "id": "8ee1a5a7",
   "metadata": {},
   "outputs": [],
   "source": []
  }
 ],
 "metadata": {
  "kernelspec": {
   "display_name": "virtualforFlask",
   "language": "python",
   "name": "virtualforflask"
  },
  "language_info": {
   "codemirror_mode": {
    "name": "ipython",
    "version": 3
   },
   "file_extension": ".py",
   "mimetype": "text/x-python",
   "name": "python",
   "nbconvert_exporter": "python",
   "pygments_lexer": "ipython3",
   "version": "3.9.7"
  }
 },
 "nbformat": 4,
 "nbformat_minor": 5
}
